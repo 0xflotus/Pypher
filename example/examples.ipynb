{
 "cells": [
  {
   "cell_type": "markdown",
   "metadata": {},
   "source": [
    "# A Pypher Overview\n",
    "\n",
    "This notebook is an introduction to Pypher, what it can do, and how it can help manage your Cypher from within Python."
   ]
  },
  {
   "cell_type": "markdown",
   "metadata": {},
   "source": [
    "## Install the Pypher package from pypi"
   ]
  },
  {
   "cell_type": "code",
   "execution_count": 16,
   "metadata": {
    "collapsed": true
   },
   "outputs": [
    {
     "name": "stdout",
     "output_type": "stream",
     "text": [
      "Requirement already satisfied: python_cypher in ./env/lib/python3.6/site-packages\r\n",
      "Requirement already satisfied: six in ./env/lib/python3.6/site-packages (from python_cypher)\r\n"
     ]
    }
   ],
   "source": [
    "!pip install python_cypher"
   ]
  },
  {
   "cell_type": "markdown",
   "metadata": {},
   "source": [
    "## Import what you need\n",
    "\n",
    "For these examples we will need the `Pypher` object, the Pypher factory object `__`, and the `Param` object"
   ]
  },
  {
   "cell_type": "code",
   "execution_count": 41,
   "metadata": {},
   "outputs": [],
   "source": [
    "from pypher import Pypher, __\n",
    "from pypher.builder import Param\n",
    "\n",
    "\n",
    "def cprint(pypher):\n",
    "    c = str(pypher)\n",
    "    p = pypher.bound_params\n",
    "    print('Cypher:')\n",
    "    print(str(pypher))\n",
    "\n",
    "    if p:\n",
    "        print('\\nBound Params:')\n",
    "        print(dict(p))\n",
    "    "
   ]
  },
  {
   "cell_type": "markdown",
   "metadata": {},
   "source": [
    "## Sample Pypher Queries\n",
    "\n",
    "Lets write a few simple Cypher queries, but using Pypher."
   ]
  },
  {
   "cell_type": "code",
   "execution_count": 42,
   "metadata": {},
   "outputs": [
    {
     "name": "stdout",
     "output_type": "stream",
     "text": [
      "Cypher:\n",
      "MATCH (a)-[r]-(b) RETURN a, b, r\n"
     ]
    }
   ],
   "source": [
    "p = Pypher()\n",
    "p.Match.node('a').relationship('r').node('b').RETURN('a', 'b', 'r')\n",
    "\n",
    "cprint(p)"
   ]
  },
  {
   "cell_type": "code",
   "execution_count": 43,
   "metadata": {},
   "outputs": [
    {
     "name": "stdout",
     "output_type": "stream",
     "text": [
      "Cypher:\n",
      "MATCH (u:`User`) RETURN user\n"
     ]
    }
   ],
   "source": [
    "p = Pypher()\n",
    "p.MATCH.node('u', labels='User').RETURN.user\n",
    "\n",
    "cprint(p)"
   ]
  },
  {
   "cell_type": "markdown",
   "metadata": {},
   "source": [
    "In this example a complex Cypher query is built. The Pypher automatically binds the parameters passed into the functions."
   ]
  },
  {
   "cell_type": "code",
   "execution_count": 44,
   "metadata": {},
   "outputs": [
    {
     "name": "stdout",
     "output_type": "stream",
     "text": [
      "Cypher:\n",
      "OPTIONAL MATCH (user:`User`)-[FRIENDS_WITH]-(friend:`User`) WHERE user.`id` = $NEO_e6a72_0 RETURN user, count($NEO_e6a72_1) AS $NEO_e6a72_2\n",
      "\n",
      "Bound Params:\n",
      "{'$NEO_e6a72_0': 1234, '$NEO_e6a72_1': 'friend', '$NEO_e6a72_2': 'number_of_friends'}\n"
     ]
    }
   ],
   "source": [
    "p.reset()\n",
    "p.OPTIONAL.MATCH.node('user', 'User').rel('FRIENDS_WITH').node('friend', 'User')\n",
    "# continue later\n",
    "p.WHERE.user.__id__ == 1234\n",
    "p.RETURN(__.user, __.count('friend').alias('number_of_friends'))\n",
    "\n",
    "cprint(p)"
   ]
  },
  {
   "cell_type": "markdown",
   "metadata": {},
   "source": [
    "We can also manually bind parameters using the `Param` object or by calling the `.bind_param` method on the `Pypher` instances."
   ]
  },
  {
   "cell_type": "code",
   "execution_count": 46,
   "metadata": {},
   "outputs": [
    {
     "name": "stdout",
     "output_type": "stream",
     "text": [
      "Cypher:\n",
      "CREATE ( {`name`: $my_name}) RETURN ()\n",
      "\n",
      "Bound Params:\n",
      "{'$my_name': 'Mark'}\n"
     ]
    }
   ],
   "source": [
    "p = Pypher()\n",
    "\n",
    "name = Param('my_name', 'Mark')\n",
    "p.CREATE.node(name=name).RETURN.node()\n",
    "\n",
    "cprint(p)"
   ]
  },
  {
   "cell_type": "markdown",
   "metadata": {},
   "source": [
    "As you can see in both the generated Cypher and the bound_params, `my_name` is used because it was defined."
   ]
  },
  {
   "cell_type": "code",
   "execution_count": 47,
   "metadata": {},
   "outputs": [
    {
     "name": "stdout",
     "output_type": "stream",
     "text": [
      "Cypher:\n",
      "CREATE ( {`name`: $my_param}) RETURN ()\n",
      "\n",
      "Bound Params:\n",
      "{'$my_param': 'Mark'}\n"
     ]
    }
   ],
   "source": [
    "p = Pypher()\n",
    "name = p.bind_param('Mark', 'my_param')\n",
    "p.CREATE.node(name=name).RETURN.node()\n",
    "\n",
    "cprint(p)"
   ]
  },
  {
   "cell_type": "markdown",
   "metadata": {},
   "source": [
    "These next few examples were taken from [https://github.com/Readify/Neo4jClient/wiki/cypher-examples](https://github.com/Readify/Neo4jClient/wiki/cypher-examples)\n",
    "\n",
    "### Create a user, only if they don't already exist"
   ]
  },
  {
   "cell_type": "code",
   "execution_count": 48,
   "metadata": {},
   "outputs": [
    {
     "name": "stdout",
     "output_type": "stream",
     "text": [
      "Cypher:\n",
      "MERGE (user:`User` {`Id`: $Id42b01_0}) ON_CREATE user SET user.`Name` = $NEO_42b01_1\n",
      "\n",
      "Bound Params:\n",
      "{'$Id42b01_0': 456, '$NEO_42b01_1': 'Jim'}\n"
     ]
    }
   ],
   "source": [
    "p = Pypher()\n",
    "\n",
    "p.MERGE.node('user', labels='User', Id=456).ON_CREATE.user.SET(__.user.__Name__ == 'Jim')\n",
    "\n",
    "cprint(p)"
   ]
  },
  {
   "cell_type": "markdown",
   "metadata": {},
   "source": [
    "### Create a user and relate them to an existing one"
   ]
  },
  {
   "cell_type": "code",
   "execution_count": 49,
   "metadata": {},
   "outputs": [
    {
     "name": "stdout",
     "output_type": "stream",
     "text": [
      "Cypher:\n",
      "MATCH (invitee:`User`) WHERE invitee.`id` = $NEO_58bd0_0 CREATE (invitee)-[:`INVITED`]->(invited {`lables`: $lables58bd0_1})\n",
      "\n",
      "Bound Params:\n",
      "{'$NEO_58bd0_0': 123, '$lables58bd0_1': 'User'}\n"
     ]
    }
   ],
   "source": [
    "p = Pypher()\n",
    "\n",
    "p.MATCH.node('invitee', labels='User').WHERE.invitee.__id__ == 123\n",
    "p.CREATE.node('invitee').rel_out(labels='INVITED').node('invited', lables='User')\n",
    "\n",
    "cprint(p)"
   ]
  },
  {
   "cell_type": "markdown",
   "metadata": {},
   "source": [
    "### Relate two existing users\n",
    "\n",
    "This example does a few notable things:\n",
    "\n",
    "* It breaks up the query building across a few lines. This is useful for when you want do things like conditionally build a query\n",
    "* It runs Pypher Statement objects as functions. When done this way multiple arguments can be passed in.\n",
    "* It uses the Pypher factory to create anonymous chains that are passed into the statement functions.\n",
    "* It accesses properties via the double undersore syntax. `user.__id__` is equivilent to `user.property('id')`"
   ]
  },
  {
   "cell_type": "code",
   "execution_count": 50,
   "metadata": {},
   "outputs": [
    {
     "name": "stdout",
     "output_type": "stream",
     "text": [
      "Cypher:\n",
      "MATCH (user1:`User`), (user2:`User`) WHERE user1.`Id` = $NEO_716ef_0, user2.`Id` = $NEO_716ef_1 CREATE (user1)-[:`FRIENDS_WITH`]->(user2)\n",
      "\n",
      "Bound Params:\n",
      "{'$NEO_716ef_0': 123, '$NEO_716ef_1': 456}\n"
     ]
    }
   ],
   "source": [
    "p = Pypher()\n",
    "\n",
    "p.MATCH(__.node('user1', labels='User'), __.node('user2', labels='User')) # line is getting long\n",
    "p.WHERE(__.user1.__Id__ == 123, __.user2.__Id__ == 456)\n",
    "p.CREATE.node('user1').relationship(direction='out', labels='FRIENDS_WITH').node('user2')\n",
    "\n",
    "cprint(p)"
   ]
  },
  {
   "cell_type": "markdown",
   "metadata": {},
   "source": [
    "### Update a single property on a user\n",
    "\n",
    "This example shows how to access a property via the `property` method."
   ]
  },
  {
   "cell_type": "code",
   "execution_count": 54,
   "metadata": {},
   "outputs": [
    {
     "name": "stdout",
     "output_type": "stream",
     "text": [
      "Cypher:\n",
      "MATCH (user:`User`) WHERE user.`id` = $NEO_f4755_0 SET user.`Age` = $NEO_f4755_1\n",
      "\n",
      "Bound Params:\n",
      "{'$NEO_f4755_0': 123, '$NEO_f4755_1': 25}\n"
     ]
    }
   ],
   "source": [
    "p = Pypher()\n",
    "\n",
    "p.MATCH.node('user', 'User').WHERE.user.property('id') == 123\n",
    "p.SET(__.user.property('Age') == 25)\n",
    "\n",
    "cprint(p)"
   ]
  },
  {
   "cell_type": "markdown",
   "metadata": {},
   "source": [
    "## Take a Look at Partial Objects\n",
    "\n",
    "In Pypher, Partial objects allow for complex query to be handled in another object with its own interface. Pypher comes with one called `Case` that handles the Cypher swith case syntax."
   ]
  },
  {
   "cell_type": "code",
   "execution_count": 57,
   "metadata": {},
   "outputs": [
    {
     "name": "stdout",
     "output_type": "stream",
     "text": [
      "Cypher:\n",
      "MATCH () RETURN CASE  WHEN n.`eyes` = $NEO_37f9d_0 THEN 1 WHEN n.`age` < $NEO_37f9d_1 THEN 2 ELSE 3 END AS $NEO_37f9d_2\n",
      "\n",
      "Bound Params:\n",
      "{'$NEO_37f9d_0': 'blue', '$NEO_37f9d_1': 40, '$NEO_37f9d_2': 'Result'}\n"
     ]
    }
   ],
   "source": [
    "from pypher.partial import Case\n",
    "\n",
    "c = Case('')\n",
    "c.WHEN(__.n.__eyes__ == 'blue', 1).WHEN(__.n.__age__ < 40, 2).ELSE(3)\n",
    "\n",
    "p = Pypher()\n",
    "p.MATCH.node().RETURN(c).alias('Result')\n",
    "\n",
    "cprint(p)"
   ]
  },
  {
   "cell_type": "code",
   "execution_count": null,
   "metadata": {},
   "outputs": [],
   "source": []
  }
 ],
 "metadata": {
  "kernelspec": {
   "display_name": "Python 3",
   "language": "python",
   "name": "python3"
  },
  "language_info": {
   "codemirror_mode": {
    "name": "ipython",
    "version": 3
   },
   "file_extension": ".py",
   "mimetype": "text/x-python",
   "name": "python",
   "nbconvert_exporter": "python",
   "pygments_lexer": "ipython3",
   "version": "3.6.4"
  }
 },
 "nbformat": 4,
 "nbformat_minor": 2
}
